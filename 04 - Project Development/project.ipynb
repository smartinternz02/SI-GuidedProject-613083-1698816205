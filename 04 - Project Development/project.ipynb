{
 "cells": [
  {
   "cell_type": "markdown",
   "id": "a6863b30",
   "metadata": {},
   "source": [
    "### Data Analysis and Visualization"
   ]
  },
  {
   "cell_type": "markdown",
   "id": "1e001cca",
   "metadata": {},
   "source": [
    "##### Importing necessary libraries"
   ]
  },
  {
   "cell_type": "code",
   "execution_count": null,
   "id": "a53e88aa",
   "metadata": {},
   "outputs": [],
   "source": [
    "import numpy as np\n",
    "import pandas as pd\n",
    "import matplotlib.pyplot as plt\n",
    "plt.style.use(\"fivethirtyeight\")\n",
    "import seaborn as sns\n",
    "import warnings\n",
    "warnings.filterwarnings(\"ignore\")"
   ]
  },
  {
   "cell_type": "markdown",
   "id": "dbb69525",
   "metadata": {},
   "source": [
    "##### Reading Dataset"
   ]
  },
  {
   "cell_type": "code",
   "execution_count": null,
   "id": "3561236a",
   "metadata": {},
   "outputs": [],
   "source": [
    "data = pd.read_csv(\"online_shoppers_intention.csv\")"
   ]
  },
  {
   "cell_type": "code",
   "execution_count": null,
   "id": "0280cd48",
   "metadata": {},
   "outputs": [],
   "source": [
    "data.head()"
   ]
  },
  {
   "cell_type": "code",
   "execution_count": null,
   "id": "e7eea5f6",
   "metadata": {},
   "outputs": [],
   "source": [
    "data.shape"
   ]
  },
  {
   "cell_type": "code",
   "execution_count": null,
   "id": "0206c3fd",
   "metadata": {
    "scrolled": false
   },
   "outputs": [],
   "source": [
    "data.info()"
   ]
  },
  {
   "cell_type": "markdown",
   "id": "75f25eda",
   "metadata": {},
   "source": [
    "##### Univariate Analysis"
   ]
  },
  {
   "cell_type": "code",
   "execution_count": null,
   "id": "484bb08c",
   "metadata": {},
   "outputs": [],
   "source": [
    "plt.figure(figsize=(10,10))\n",
    "\n",
    "plt.subplot(1,2,1)\n",
    "data[\"Revenue\"].value_counts().plot(kind=\"pie\",autopct=\"%0.1f%%\")\n",
    "\n",
    "plt.subplot(1,2,2)\n",
    "data[\"VisitorType\"].value_counts().plot(kind=\"pie\",autopct=\"%0.1f%%\")\n",
    "plt.show()"
   ]
  },
  {
   "cell_type": "markdown",
   "id": "d86c57ef",
   "metadata": {},
   "source": [
    "Inference : We can observe that 84.5% of the visitors didn't shop while 85.6% will return again"
   ]
  },
  {
   "cell_type": "code",
   "execution_count": null,
   "id": "4eab4067",
   "metadata": {},
   "outputs": [],
   "source": [
    "sns.histplot(data[\"Month\"])\n",
    "plt.show()"
   ]
  },
  {
   "cell_type": "markdown",
   "id": "8b143f64",
   "metadata": {},
   "source": [
    "Inference : The visitors are high in May and November months."
   ]
  },
  {
   "cell_type": "markdown",
   "id": "dec4a7a0",
   "metadata": {},
   "source": [
    "##### Bivariate analysis"
   ]
  },
  {
   "cell_type": "code",
   "execution_count": null,
   "id": "479cee9b",
   "metadata": {},
   "outputs": [],
   "source": [
    "plt.figure(figsize=(15,5))\n",
    "\n",
    "plt.subplot(1,3,1)\n",
    "plt.xlabel(\"Administrative pages\")\n",
    "plt.ylabel(\"Administrative Duration\")\n",
    "plt.scatter(data[\"Administrative\"],data[\"Administrative_Duration\"])\n",
    "\n",
    "\n",
    "plt.subplot(1,3,2)\n",
    "plt.xlabel(\"Informational pages\")\n",
    "plt.ylabel(\"Informational Duration\")\n",
    "plt.scatter(data[\"Informational\"],data[\"Informational_Duration\"],color=\"m\")\n",
    "\n",
    "plt.subplot(1,3,3)\n",
    "plt.xlabel(\"Product-Related pages\")\n",
    "plt.ylabel(\"Product-Related Duration\")\n",
    "plt.scatter(data[\"ProductRelated\"],data[\"ProductRelated_Duration\"],color=\"g\")\n",
    "\n",
    "plt.show()"
   ]
  },
  {
   "cell_type": "markdown",
   "id": "8e323236",
   "metadata": {},
   "source": [
    "Inference : 1 - We can observe administarative duration mostly lies in between 0 to 1000 and the pages visited between 0-10 mostly.\n",
    "\n",
    "2 - whereas in informational we can the duration is concentrated more between 0 to 1000 and pages visited is between 0 to 10\n",
    "\n",
    "3 - In the case of product related we can see that the duration is mostly between 0 to 10000 and pages are like 0 to 400 mostly"
   ]
  },
  {
   "cell_type": "code",
   "execution_count": null,
   "id": "f1a32e24",
   "metadata": {},
   "outputs": [],
   "source": [
    "pd.crosstab(data[\"SpecialDay\"],data[\"Revenue\"])"
   ]
  },
  {
   "cell_type": "markdown",
   "id": "65c7d2c7",
   "metadata": {},
   "source": [
    "Inference : When special event <0.6 then less revenue is generated compared to >0.6 . But overall the revenue generated is higher on normal days"
   ]
  },
  {
   "cell_type": "code",
   "execution_count": null,
   "id": "a1810cb6",
   "metadata": {},
   "outputs": [],
   "source": [
    "sns.barplot(x=\"Month\",y=\"Revenue\",data=data,ci=False)\n",
    "plt.show()"
   ]
  },
  {
   "cell_type": "markdown",
   "id": "63b86257",
   "metadata": {},
   "source": [
    "Inference : High revenue is generated in November, October, September, August months compared to others"
   ]
  },
  {
   "cell_type": "markdown",
   "id": "0dedfaac",
   "metadata": {},
   "source": [
    "### Multivariate Analysis"
   ]
  },
  {
   "cell_type": "code",
   "execution_count": null,
   "id": "43cb6a5b",
   "metadata": {},
   "outputs": [],
   "source": [
    "pd.crosstab([data[\"Month\"],data[\"VisitorType\"]],data[\"Revenue\"])"
   ]
  },
  {
   "cell_type": "code",
   "execution_count": null,
   "id": "918cd48c",
   "metadata": {},
   "outputs": [],
   "source": [
    "plt.figure(figsize=(15,15))\n",
    "sns.heatmap(data.corr(numeric_only=True),annot=True)"
   ]
  },
  {
   "cell_type": "markdown",
   "id": "23568b6f",
   "metadata": {},
   "source": [
    "##### Descriptive Analysis"
   ]
  },
  {
   "cell_type": "code",
   "execution_count": null,
   "id": "31bdfe37",
   "metadata": {},
   "outputs": [],
   "source": [
    "data.describe()"
   ]
  },
  {
   "cell_type": "markdown",
   "id": "0d7fce55",
   "metadata": {},
   "source": [
    "### Data preprocessing"
   ]
  },
  {
   "cell_type": "markdown",
   "id": "1d3d311f",
   "metadata": {},
   "source": [
    "#### Handling Null values if any"
   ]
  },
  {
   "cell_type": "code",
   "execution_count": null,
   "id": "82c73400",
   "metadata": {},
   "outputs": [],
   "source": [
    "data.isnull().any()"
   ]
  },
  {
   "cell_type": "code",
   "execution_count": null,
   "id": "c2861cdc",
   "metadata": {},
   "outputs": [],
   "source": [
    "data.isnull().sum()"
   ]
  },
  {
   "cell_type": "markdown",
   "id": "f4599d08",
   "metadata": {},
   "source": [
    "#### Handling categorical values -- Encoding"
   ]
  },
  {
   "cell_type": "code",
   "execution_count": null,
   "id": "ec280def",
   "metadata": {},
   "outputs": [],
   "source": [
    "from sklearn.preprocessing import LabelEncoder"
   ]
  },
  {
   "cell_type": "code",
   "execution_count": null,
   "id": "1e3c1bb5",
   "metadata": {},
   "outputs": [],
   "source": [
    "le = LabelEncoder()"
   ]
  },
  {
   "cell_type": "code",
   "execution_count": null,
   "id": "12faac83",
   "metadata": {},
   "outputs": [],
   "source": [
    "data[\"Month\"] = le.fit_transform(data[\"Month\"])\n",
    "data[\"VisitorType\"] = le.fit_transform(data[\"VisitorType\"])\n",
    "data[\"Weekend\"] = le.fit_transform(data[\"Weekend\"])\n",
    "data[\"Revenue\"] = le.fit_transform(data[\"Revenue\"])"
   ]
  },
  {
   "cell_type": "markdown",
   "id": "7c71998d",
   "metadata": {},
   "source": [
    "#### Dropping unwanted features -- Kmeans(unsupervised) so target feature must be removed"
   ]
  },
  {
   "cell_type": "code",
   "execution_count": null,
   "id": "34427acb",
   "metadata": {},
   "outputs": [],
   "source": [
    "data_k = data.drop(\"Revenue\",axis=1)"
   ]
  },
  {
   "cell_type": "markdown",
   "id": "cb8c4e9a",
   "metadata": {},
   "source": [
    "#### Feature Scaling/Normalization"
   ]
  },
  {
   "cell_type": "code",
   "execution_count": null,
   "id": "9a762c70",
   "metadata": {},
   "outputs": [],
   "source": [
    "from sklearn.preprocessing import MinMaxScaler"
   ]
  },
  {
   "cell_type": "code",
   "execution_count": null,
   "id": "e5391f47",
   "metadata": {},
   "outputs": [],
   "source": [
    "sc = MinMaxScaler()"
   ]
  },
  {
   "cell_type": "code",
   "execution_count": null,
   "id": "f9d7912f",
   "metadata": {},
   "outputs": [],
   "source": [
    "data_k1 = sc.fit_transform(data_k)"
   ]
  },
  {
   "cell_type": "code",
   "execution_count": null,
   "id": "bfd26f8a",
   "metadata": {},
   "outputs": [],
   "source": [
    "data_k = pd.DataFrame(data_k1,columns=data_k.columns)\n",
    "data_k.head()"
   ]
  },
  {
   "cell_type": "markdown",
   "id": "200f93fe",
   "metadata": {},
   "source": [
    "## Model Building"
   ]
  },
  {
   "cell_type": "markdown",
   "id": "2e5bf860",
   "metadata": {},
   "source": [
    "### Unsupervised ML - KMeans"
   ]
  },
  {
   "cell_type": "markdown",
   "id": "449bc8f9",
   "metadata": {},
   "source": [
    "#### Elbow method"
   ]
  },
  {
   "cell_type": "code",
   "execution_count": null,
   "id": "f407f871",
   "metadata": {},
   "outputs": [],
   "source": [
    "from sklearn.cluster import KMeans"
   ]
  },
  {
   "cell_type": "code",
   "execution_count": null,
   "id": "b81409de",
   "metadata": {},
   "outputs": [],
   "source": [
    "wcss = []\n",
    "for k in range(1,11):\n",
    "    kmeans = KMeans(n_clusters=k,init=\"k-means++\",random_state=0)\n",
    "    kmeans.fit(data_k)\n",
    "    wcss.append(kmeans.inertia_)"
   ]
  },
  {
   "cell_type": "code",
   "execution_count": null,
   "id": "e7b4a851",
   "metadata": {},
   "outputs": [],
   "source": [
    "wcss"
   ]
  },
  {
   "cell_type": "code",
   "execution_count": null,
   "id": "6eb56412",
   "metadata": {},
   "outputs": [],
   "source": [
    "k=list(range(1,11))\n",
    "plt.plot(k,wcss,\"m-o\")\n",
    "plt.title(\"k vs wcss\")"
   ]
  },
  {
   "cell_type": "markdown",
   "id": "73fb72f2",
   "metadata": {},
   "source": [
    "#### Initializing the model"
   ]
  },
  {
   "cell_type": "code",
   "execution_count": null,
   "id": "cbc02a4f",
   "metadata": {},
   "outputs": [],
   "source": [
    "km = KMeans(n_clusters=4,init=\"k-means++\",random_state=0)"
   ]
  },
  {
   "cell_type": "code",
   "execution_count": null,
   "id": "828e75e9",
   "metadata": {},
   "outputs": [],
   "source": [
    "y_pred_km = km.fit_predict(data_k)"
   ]
  },
  {
   "cell_type": "markdown",
   "id": "a18670ee",
   "metadata": {},
   "source": [
    "#### Dimensionality Reduction using Principal Component Analysis"
   ]
  },
  {
   "cell_type": "code",
   "execution_count": null,
   "id": "c6141fae",
   "metadata": {},
   "outputs": [],
   "source": [
    "from sklearn.decomposition import PCA"
   ]
  },
  {
   "cell_type": "code",
   "execution_count": null,
   "id": "875426d9",
   "metadata": {},
   "outputs": [],
   "source": [
    "pca = PCA(n_components=2)\n",
    "dfPCA = pca.fit_transform(data_k)\n",
    "dfPCA"
   ]
  },
  {
   "cell_type": "code",
   "execution_count": null,
   "id": "b693a023",
   "metadata": {},
   "outputs": [],
   "source": [
    "dfPCA = pd.DataFrame(dfPCA,columns=[\"PCA 1\",\"PCA 2\"])\n",
    "dfPCA.head()"
   ]
  },
  {
   "cell_type": "code",
   "execution_count": null,
   "id": "f3dcfc02",
   "metadata": {},
   "outputs": [],
   "source": [
    "dfPCA[\"Cluster\"] = y_pred_km"
   ]
  },
  {
   "cell_type": "code",
   "execution_count": null,
   "id": "2692cee6",
   "metadata": {},
   "outputs": [],
   "source": [
    "#Visualizing data points using seaborn\n",
    "\n",
    "plt.figure(figsize=(10,10))\n",
    "sns.scatterplot(x=\"PCA 1\",y=\"PCA 2\",hue = dfPCA[\"Cluster\"],palette=[\"red\",\"yellow\",\"green\",\"blue\"],data=dfPCA)\n",
    "plt.scatter(km.cluster_centers_[:,0],km.cluster_centers_[:,1],color=\"black\",s=300,marker=\"*\",label=\"centroid\")\n",
    "plt.legend()"
   ]
  },
  {
   "cell_type": "markdown",
   "id": "aa28bf3e",
   "metadata": {},
   "source": [
    "### Supervised ML"
   ]
  },
  {
   "cell_type": "code",
   "execution_count": null,
   "id": "c457c3a9",
   "metadata": {},
   "outputs": [],
   "source": [
    "#Splitting dataset\n",
    "from sklearn.model_selection import train_test_split\n",
    "\n",
    "x = data.drop(\"Revenue\",axis=1)\n",
    "y = data[\"Revenue\"]\n",
    "\n",
    "x_train,x_test,y_train,y_test = train_test_split(x,y,test_size=0.3,random_state=10)"
   ]
  },
  {
   "cell_type": "code",
   "execution_count": null,
   "id": "d3504a2a",
   "metadata": {},
   "outputs": [],
   "source": [
    "from sklearn.linear_model import LogisticRegression\n",
    "from sklearn.ensemble import RandomForestClassifier\n",
    "from sklearn.metrics import classification_report,confusion_matrix"
   ]
  },
  {
   "cell_type": "code",
   "execution_count": null,
   "id": "a7641dfb",
   "metadata": {},
   "outputs": [],
   "source": [
    "def logisticReg(x_train,x_test,y_train,y_test):\n",
    "    lr = LogisticRegression()\n",
    "    lr.fit(x_train,y_train)\n",
    "    yPred = lr.predict(x_test)\n",
    "    print(\"Logistic Regression : \")\n",
    "    print(\"Confusion matrix\")\n",
    "    print(confusion_matrix(y_test,yPred))\n",
    "    print(\"Classification Report : \")\n",
    "    print(classification_report(y_test,yPred))\n",
    "    "
   ]
  },
  {
   "cell_type": "code",
   "execution_count": null,
   "id": "1d7300e6",
   "metadata": {},
   "outputs": [],
   "source": [
    "logisticReg(x_train,x_test,y_train,y_test)"
   ]
  },
  {
   "cell_type": "code",
   "execution_count": null,
   "id": "4e16e457",
   "metadata": {},
   "outputs": [],
   "source": [
    "def randomForest(x_train,x_test,y_train,y_test):\n",
    "    rf = RandomForestClassifier()\n",
    "    rf.fit(x_train,y_train)\n",
    "    yPred = rf.predict(x_test)\n",
    "    print(\"RandomForestClassifier : \")\n",
    "    print(\"Confusion matrix\")\n",
    "    print(confusion_matrix(y_test,yPred))\n",
    "    print(\"Classification report\")\n",
    "    print(classification_report(y_test,yPred))\n",
    "    return rf"
   ]
  },
  {
   "cell_type": "code",
   "execution_count": null,
   "id": "c6ba1099",
   "metadata": {},
   "outputs": [],
   "source": [
    "rf=randomForest(x_train,x_test,y_train,y_test)"
   ]
  },
  {
   "cell_type": "markdown",
   "id": "be36e87c",
   "metadata": {},
   "source": [
    "### Saving the model"
   ]
  },
  {
   "cell_type": "code",
   "execution_count": null,
   "id": "1875f492",
   "metadata": {},
   "outputs": [],
   "source": [
    "import pickle\n",
    "pickle.dump(rf,open(\"model.pkl\",\"wb\"))"
   ]
  },
  {
   "cell_type": "code",
   "execution_count": null,
   "id": "07138027",
   "metadata": {},
   "outputs": [],
   "source": []
  }
 ],
 "metadata": {
  "kernelspec": {
   "display_name": "Python 3 (ipykernel)",
   "language": "python",
   "name": "python3"
  },
  "language_info": {
   "codemirror_mode": {
    "name": "ipython",
    "version": 3
   },
   "file_extension": ".py",
   "mimetype": "text/x-python",
   "name": "python",
   "nbconvert_exporter": "python",
   "pygments_lexer": "ipython3",
   "version": "3.11.5"
  }
 },
 "nbformat": 4,
 "nbformat_minor": 5
}
